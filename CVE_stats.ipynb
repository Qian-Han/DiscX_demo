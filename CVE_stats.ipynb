{
 "cells": [
  {
   "cell_type": "code",
   "execution_count": 1,
   "metadata": {},
   "outputs": [],
   "source": [
    "import pandas as pd\n",
    "import json"
   ]
  },
  {
   "cell_type": "code",
   "execution_count": 2,
   "metadata": {},
   "outputs": [],
   "source": [
    "with open('2016.json') as f:\n",
    "    data = json.load(f)"
   ]
  },
  {
   "cell_type": "code",
   "execution_count": 3,
   "metadata": {},
   "outputs": [
    {
     "name": "stdout",
     "output_type": "stream",
     "text": [
      "CVE-2016-0001\n"
     ]
    }
   ],
   "source": [
    "print((data['CVE_Items'][0]['cve'][\"CVE_data_meta\"][\"ID\"]))"
   ]
  },
  {
   "cell_type": "code",
   "execution_count": 4,
   "metadata": {},
   "outputs": [],
   "source": [
    "# print((data['CVE_Items'][0]['impact']['baseMetricV3']['cvssV3']['baseSeverity']))"
   ]
  },
  {
   "cell_type": "code",
   "execution_count": 5,
   "metadata": {},
   "outputs": [
    {
     "name": "stdout",
     "output_type": "stream",
     "text": [
      "2017-05-11\n"
     ]
    }
   ],
   "source": [
    "a = print((data['CVE_Items'][0]['publishedDate'][:-7]))"
   ]
  },
  {
   "cell_type": "code",
   "execution_count": 6,
   "metadata": {},
   "outputs": [],
   "source": [
    "a = (data['CVE_Items'][0]['publishedDate'][:-7])\n",
    "# SEVERITY = [0,0,0,0,0,0,0,0,0,0,0,0]\n",
    "NONE = [0,0,0,0,0,0,0,0,0,0,0,0]\n",
    "LOW = [0,0,0,0,0,0,0,0,0,0,0,0]\n",
    "MEDIUM = [0,0,0,0,0,0,0,0,0,0,0,0]\n",
    "HIGH = [0,0,0,0,0,0,0,0,0,0,0,0]\n",
    "CRITICAL = [0,0,0,0,0,0,0,0,0,0,0,0]"
   ]
  },
  {
   "cell_type": "code",
   "execution_count": 7,
   "metadata": {},
   "outputs": [
    {
     "name": "stdout",
     "output_type": "stream",
     "text": [
      "[0, 0, 0, 0, 0, 0, 0, 0, 0, 0, 0, 0]\n",
      "[18, 35, 14, 24, 13, 12, 31, 9, 23, 21, 21, 2]\n",
      "[324, 434, 274, 418, 180, 216, 261, 173, 202, 253, 137, 236]\n",
      "[355, 376, 293, 415, 386, 454, 301, 176, 257, 245, 183, 193]\n",
      "[157, 125, 105, 193, 160, 82, 132, 86, 99, 151, 44, 75]\n"
     ]
    }
   ],
   "source": [
    "# Loop all the CVE, find the total number of CVEs in 2018\n",
    "totalNum = len(data['CVE_Items'])\n",
    "# Define 5 severity lists for 12 months\n",
    "NONE = [0,0,0,0,0,0,0,0,0,0,0,0]\n",
    "LOW = [0,0,0,0,0,0,0,0,0,0,0,0]\n",
    "MEDIUM = [0,0,0,0,0,0,0,0,0,0,0,0]\n",
    "HIGH = [0,0,0,0,0,0,0,0,0,0,0,0]\n",
    "CRITICAL = [0,0,0,0,0,0,0,0,0,0,0,0]\n",
    "\n",
    "# function assign date to month\n",
    "def CVE_date_to_SEVERITY(date, SEVERITY_list):\n",
    "    tmp = date[5:7]\n",
    "    if tmp == '01':\n",
    "        SEVERITY_list[0] += 1\n",
    "    elif tmp == '02':\n",
    "        SEVERITY_list[1] += 1\n",
    "    elif tmp == '03':\n",
    "        SEVERITY_list[2] += 1\n",
    "    elif tmp == '04':\n",
    "        SEVERITY_list[3] += 1\n",
    "    elif tmp == '05':\n",
    "        SEVERITY_list[4] += 1\n",
    "    elif tmp == '06':\n",
    "        SEVERITY_list[5] += 1\n",
    "    elif tmp == '07':\n",
    "        SEVERITY_list[6] += 1\n",
    "    elif tmp == '08':\n",
    "        SEVERITY_list[7] += 1\n",
    "    elif tmp == '09':\n",
    "        SEVERITY_list[8] += 1\n",
    "    elif tmp == '10':\n",
    "        SEVERITY_list[9] += 1\n",
    "    elif tmp == '11':\n",
    "        SEVERITY_list[10] += 1\n",
    "    elif tmp == '12':\n",
    "        SEVERITY_list[11] += 1\n",
    "\n",
    "    return SEVERITY_list\n",
    "\n",
    "# Check each CVE's severity\n",
    "for i in range(0,totalNum):\n",
    "    try:\n",
    "        date = data['CVE_Items'][i]['publishedDate'][:-7]\n",
    "        SEVERITY_level = data['CVE_Items'][i]['impact']['baseMetricV3']['cvssV3']['baseSeverity']\n",
    "        # If severity == any, call date_to_severity function on the corresponding list\n",
    "        if (SEVERITY_level == 'NONE'):\n",
    "            CVE_date_to_SEVERITY(date, NONE)\n",
    "        elif (SEVERITY_level == 'LOW'):\n",
    "            CVE_date_to_SEVERITY(date, LOW)\n",
    "        if (SEVERITY_level == 'MEDIUM'):\n",
    "            CVE_date_to_SEVERITY(date, MEDIUM)\n",
    "        if (SEVERITY_level == 'HIGH'):\n",
    "            CVE_date_to_SEVERITY(date, HIGH)\n",
    "        if (SEVERITY_level == 'CRITICAL'):\n",
    "            CVE_date_to_SEVERITY(date, CRITICAL)\n",
    "    except:\n",
    "        pass\n",
    "        \n",
    "# Return 5 final lists\n",
    "print(NONE)\n",
    "print(LOW)\n",
    "print(MEDIUM)\n",
    "print(HIGH)\n",
    "print(CRITICAL)"
   ]
  },
  {
   "cell_type": "code",
   "execution_count": null,
   "metadata": {},
   "outputs": [],
   "source": []
  },
  {
   "cell_type": "code",
   "execution_count": null,
   "metadata": {},
   "outputs": [],
   "source": []
  }
 ],
 "metadata": {
  "kernelspec": {
   "display_name": "Python 3",
   "language": "python",
   "name": "python3"
  },
  "language_info": {
   "codemirror_mode": {
    "name": "ipython",
    "version": 3
   },
   "file_extension": ".py",
   "mimetype": "text/x-python",
   "name": "python",
   "nbconvert_exporter": "python",
   "pygments_lexer": "ipython3",
   "version": "3.5.4"
  }
 },
 "nbformat": 4,
 "nbformat_minor": 2
}
